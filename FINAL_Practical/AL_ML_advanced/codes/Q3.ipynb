{
  "nbformat": 4,
  "nbformat_minor": 0,
  "metadata": {
    "colab": {
      "name": "Q3",
      "provenance": [],
      "collapsed_sections": []
    },
    "kernelspec": {
      "name": "python3",
      "display_name": "Python 3"
    },
    "language_info": {
      "name": "python"
    }
  },
  "cells": [
    {
      "cell_type": "code",
      "metadata": {
        "id": "LHmkVnv-9Htt",
        "outputId": "6084e76e-e705-4a2e-815c-5918ee226088",
        "colab": {
          "base_uri": "https://localhost:8080/"
        }
      },
      "source": [
        "#i\n",
        "from sklearn.datasets import load_digits\n",
        "digits = load_digits()\n",
        "print(digits.DESCR)"
      ],
      "execution_count": 14,
      "outputs": [
        {
          "output_type": "stream",
          "text": [
            ".. _digits_dataset:\n",
            "\n",
            "Optical recognition of handwritten digits dataset\n",
            "--------------------------------------------------\n",
            "\n",
            "**Data Set Characteristics:**\n",
            "\n",
            "    :Number of Instances: 5620\n",
            "    :Number of Attributes: 64\n",
            "    :Attribute Information: 8x8 image of integer pixels in the range 0..16.\n",
            "    :Missing Attribute Values: None\n",
            "    :Creator: E. Alpaydin (alpaydin '@' boun.edu.tr)\n",
            "    :Date: July; 1998\n",
            "\n",
            "This is a copy of the test set of the UCI ML hand-written digits datasets\n",
            "https://archive.ics.uci.edu/ml/datasets/Optical+Recognition+of+Handwritten+Digits\n",
            "\n",
            "The data set contains images of hand-written digits: 10 classes where\n",
            "each class refers to a digit.\n",
            "\n",
            "Preprocessing programs made available by NIST were used to extract\n",
            "normalized bitmaps of handwritten digits from a preprinted form. From a\n",
            "total of 43 people, 30 contributed to the training set and different 13\n",
            "to the test set. 32x32 bitmaps are divided into nonoverlapping blocks of\n",
            "4x4 and the number of on pixels are counted in each block. This generates\n",
            "an input matrix of 8x8 where each element is an integer in the range\n",
            "0..16. This reduces dimensionality and gives invariance to small\n",
            "distortions.\n",
            "\n",
            "For info on NIST preprocessing routines, see M. D. Garris, J. L. Blue, G.\n",
            "T. Candela, D. L. Dimmick, J. Geist, P. J. Grother, S. A. Janet, and C.\n",
            "L. Wilson, NIST Form-Based Handprint Recognition System, NISTIR 5469,\n",
            "1994.\n",
            "\n",
            ".. topic:: References\n",
            "\n",
            "  - C. Kaynak (1995) Methods of Combining Multiple Classifiers and Their\n",
            "    Applications to Handwritten Digit Recognition, MSc Thesis, Institute of\n",
            "    Graduate Studies in Science and Engineering, Bogazici University.\n",
            "  - E. Alpaydin, C. Kaynak (1998) Cascading Classifiers, Kybernetika.\n",
            "  - Ken Tang and Ponnuthurai N. Suganthan and Xi Yao and A. Kai Qin.\n",
            "    Linear dimensionalityreduction using relevance weighted LDA. School of\n",
            "    Electrical and Electronic Engineering Nanyang Technological University.\n",
            "    2005.\n",
            "  - Claudio Gentile. A New Approximate Maximal Margin Classification\n",
            "    Algorithm. NIPS. 2000.\n"
          ],
          "name": "stdout"
        }
      ]
    },
    {
      "cell_type": "code",
      "metadata": {
        "colab": {
          "base_uri": "https://localhost:8080/"
        },
        "id": "lzvcPcQ-9TnM",
        "outputId": "e7143940-c8c7-4630-cab0-f3087f39371b"
      },
      "source": [
        "#ii\n",
        "digits.data.shape"
      ],
      "execution_count": 15,
      "outputs": [
        {
          "output_type": "execute_result",
          "data": {
            "text/plain": [
              "(1797, 64)"
            ]
          },
          "metadata": {
            "tags": []
          },
          "execution_count": 15
        }
      ]
    },
    {
      "cell_type": "code",
      "metadata": {
        "colab": {
          "base_uri": "https://localhost:8080/"
        },
        "id": "fg32kmfEJKvS",
        "outputId": "4cc2a134-f4f8-4b47-f700-cd33e16c18f6"
      },
      "source": [
        "#ii\n",
        "digits.target.shape"
      ],
      "execution_count": 16,
      "outputs": [
        {
          "output_type": "execute_result",
          "data": {
            "text/plain": [
              "(1797,)"
            ]
          },
          "metadata": {
            "tags": []
          },
          "execution_count": 16
        }
      ]
    },
    {
      "cell_type": "code",
      "metadata": {
        "colab": {
          "base_uri": "https://localhost:8080/"
        },
        "id": "GjA-t3Cw-sLY",
        "outputId": "30dfe314-74e8-43dd-dcd7-e512d20fe138"
      },
      "source": [
        "#iii\n",
        "print(digits.data[204])\n",
        "image = digits.data[204]"
      ],
      "execution_count": 17,
      "outputs": [
        {
          "output_type": "stream",
          "text": [
            "[ 0.  4. 16. 16. 16. 16.  5.  0.  0. 11. 16.  8.  5.  8.  3.  0.  0. 10.\n",
            " 16.  2.  0.  0.  0.  0.  0.  3. 16.  6.  0.  0.  0.  0.  0.  0. 16.  9.\n",
            "  0.  0.  0.  0.  0.  0. 12. 16.  2.  0.  0.  0.  0.  0.  6. 16. 11.  0.\n",
            "  0.  0.  0.  4. 16. 12.  1.  0.  0.  0.]\n"
          ],
          "name": "stdout"
        }
      ]
    },
    {
      "cell_type": "code",
      "metadata": {
        "colab": {
          "base_uri": "https://localhost:8080/"
        },
        "id": "SuYmT7Kx-9jn",
        "outputId": "a26e420d-2580-48dc-e8ef-a3dc91af0f8f"
      },
      "source": [
        "#iv\n",
        "import numpy as np \n",
        "np.reshape(image,(8,8))"
      ],
      "execution_count": 18,
      "outputs": [
        {
          "output_type": "execute_result",
          "data": {
            "text/plain": [
              "array([[ 0.,  4., 16., 16., 16., 16.,  5.,  0.],\n",
              "       [ 0., 11., 16.,  8.,  5.,  8.,  3.,  0.],\n",
              "       [ 0., 10., 16.,  2.,  0.,  0.,  0.,  0.],\n",
              "       [ 0.,  3., 16.,  6.,  0.,  0.,  0.,  0.],\n",
              "       [ 0.,  0., 16.,  9.,  0.,  0.,  0.,  0.],\n",
              "       [ 0.,  0., 12., 16.,  2.,  0.,  0.,  0.],\n",
              "       [ 0.,  0.,  6., 16., 11.,  0.,  0.,  0.],\n",
              "       [ 0.,  4., 16., 12.,  1.,  0.,  0.,  0.]])"
            ]
          },
          "metadata": {
            "tags": []
          },
          "execution_count": 18
        }
      ]
    },
    {
      "cell_type": "code",
      "metadata": {
        "colab": {
          "base_uri": "https://localhost:8080/",
          "height": 283
        },
        "id": "KdTpOw6LAlPR",
        "outputId": "afb2635e-8cab-4e43-b39c-738b254a53f8"
      },
      "source": [
        "#v\n",
        "import matplotlib.pyplot as plt\n",
        "plt.imshow(np.reshape(image,(8,8)), cmap='gray')"
      ],
      "execution_count": 19,
      "outputs": [
        {
          "output_type": "execute_result",
          "data": {
            "text/plain": [
              "<matplotlib.image.AxesImage at 0x7f647698b950>"
            ]
          },
          "metadata": {
            "tags": []
          },
          "execution_count": 19
        },
        {
          "output_type": "display_data",
          "data": {
            "image/png": "[encoded data removed]",
            "text/plain": [
              "<Figure size 432x288 with 1 Axes>"
            ]
          },
          "metadata": {
            "tags": [],
            "needs_background": "light"
          }
        }
      ]
    },
    {
      "cell_type": "code",
      "metadata": {
        "id": "57CGC1jOC0nU"
      },
      "source": [
        "#vi\n",
        "from sklearn.model_selection import train_test_split\n",
        "x_train_1,x_test_1,y_train_1,y_test_1=train_test_split(digits.data,digits.target,test_size=0.20)"
      ],
      "execution_count": 20,
      "outputs": []
    },
    {
      "cell_type": "markdown",
      "metadata": {
        "id": "v3C6aFNeXp-i"
      },
      "source": [
        "**Not done.**\n",
        "\n",
        "![WhatsApp Image 2021-05-18 at 1.21.29 PM.jpeg](data:image/jpeg;base64,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)"
      ]
    }
  ]
}