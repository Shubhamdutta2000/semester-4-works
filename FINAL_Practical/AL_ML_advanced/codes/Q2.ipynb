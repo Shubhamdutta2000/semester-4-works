{
  "nbformat": 4,
  "nbformat_minor": 0,
  "metadata": {
    "colab": {
      "name": "Q2",
      "provenance": [],
      "collapsed_sections": []
    },
    "kernelspec": {
      "name": "python3",
      "display_name": "Python 3"
    },
    "language_info": {
      "name": "python"
    }
  },
  "cells": [
    {
      "cell_type": "code",
      "metadata": {
        "id": "05Fw-ijTrMzo"
      },
      "source": [
        "#i\n",
        "from sklearn.datasets import load_digits\n",
        "digits = load_digits()"
      ],
      "execution_count": 6,
      "outputs": []
    },
    {
      "cell_type": "code",
      "metadata": {
        "id": "j5dAerANrRXi"
      },
      "source": [
        "#ii\n",
        "from sklearn.model_selection import train_test_split\n",
        "x_train_1,x_test_1,y_train_1,y_test_1=train_test_split(digits.data,digits.target,test_size=0.3)"
      ],
      "execution_count": 10,
      "outputs": []
    },
    {
      "cell_type": "code",
      "metadata": {
        "colab": {
          "base_uri": "https://localhost:8080/"
        },
        "id": "Uh7S-8E_rZgw",
        "outputId": "ab78ac62-f8e8-4745-c22b-13c1c138eeab"
      },
      "source": [
        "#iii\n",
        "import numpy as np\n",
        "print(np.arange(len(x_train_1)))"
      ],
      "execution_count": 11,
      "outputs": [
        {
          "output_type": "stream",
          "text": [
            "[   0    1    2 ... 1254 1255 1256]\n"
          ],
          "name": "stdout"
        }
      ]
    },
    {
      "cell_type": "code",
      "metadata": {
        "colab": {
          "base_uri": "https://localhost:8080/"
        },
        "id": "4Wm6BJSDrsQv",
        "outputId": "33bd3a8e-f82f-4626-8168-9929d9e561b1"
      },
      "source": [
        "#iv\n",
        "y_train_nonlabel=np.copy(y_train_1)\n",
        "y_train_nonlabel[np.arange(len(x_train_1))[280:]]=-1\n",
        "print(y_train_nonlabel)"
      ],
      "execution_count": 12,
      "outputs": [
        {
          "output_type": "stream",
          "text": [
            "[ 5  7  8 ... -1 -1 -1]\n"
          ],
          "name": "stdout"
        }
      ]
    }
  ]
}